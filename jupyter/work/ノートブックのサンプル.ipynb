{
 "cells": [
  {
   "cell_type": "markdown",
   "id": "c22dbb2e",
   "metadata": {},
   "source": [
    "# sample\n",
    "## 1-1\n",
    "### 1-1-1\n",
    "- aaa\n",
    "これはテストです\n",
    "- bbb\n",
    "  - bbb-1\n",
    "    これはテストです\n",
    "    これはテストです\n",
    "  - bbb-2\n",
    "    これはテストです\n",
    "\n",
    "| No | description |\n",
    "| -- | -- |\n",
    "| 1  | これはテストです |\n",
    "| 2  | これはテストです |\n"
   ]
  },
  {
   "cell_type": "code",
   "execution_count": null,
   "id": "3dd53f20",
   "metadata": {},
   "outputs": [],
   "source": []
  }
 ],
 "metadata": {
  "kernelspec": {
   "display_name": "Python 3 (ipykernel)",
   "language": "python",
   "name": "python3"
  },
  "language_info": {
   "codemirror_mode": {
    "name": "ipython",
    "version": 3
   },
   "file_extension": ".py",
   "mimetype": "text/x-python",
   "name": "python",
   "nbconvert_exporter": "python",
   "pygments_lexer": "ipython3",
   "version": "3.9.7"
  }
 },
 "nbformat": 4,
 "nbformat_minor": 5
}
